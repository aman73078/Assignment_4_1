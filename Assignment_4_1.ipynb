{
 "cells": [
  {
   "cell_type": "code",
   "execution_count": 42,
   "id": "2140ddb8-7120-48a5-81b5-79198c9b4b67",
   "metadata": {},
   "outputs": [],
   "source": [
    "# Q1, Create a vehicle class with an init method having instance variables as name_of_vehicle, \n",
    "#     max_speed and average_of_vehicle."
   ]
  },
  {
   "cell_type": "code",
   "execution_count": 44,
   "id": "5854a83a-2f9a-420e-bab2-419b5dca979a",
   "metadata": {},
   "outputs": [],
   "source": [
    "# Ans- \n",
    "\n",
    "class vehicle :\n",
    "    \n",
    "    def __init__(self, name_of_vehicle, max_speed, average_of_vehicle):\n",
    "        \n",
    "        self.name_of_vehicle = name_of_vehicle\n",
    "        self.max_speed = max_speed\n",
    "        self.average_of_vehicle = average_of_vehicle\n",
    "            "
   ]
  },
  {
   "cell_type": "code",
   "execution_count": 45,
   "id": "f4bf9bc4-000c-465c-bead-f74c2b099819",
   "metadata": {},
   "outputs": [],
   "source": [
    "bmw = vehicle(\"car\", 180, 20)"
   ]
  },
  {
   "cell_type": "code",
   "execution_count": 46,
   "id": "a82a84af-3484-4919-b373-ec7c37c8f639",
   "metadata": {},
   "outputs": [
    {
     "data": {
      "text/plain": [
       "'car'"
      ]
     },
     "execution_count": 46,
     "metadata": {},
     "output_type": "execute_result"
    }
   ],
   "source": [
    "bmw.name_of_vehicle"
   ]
  },
  {
   "cell_type": "code",
   "execution_count": 47,
   "id": "89508b94-4a9e-4abe-bf84-acc5efb1ec79",
   "metadata": {},
   "outputs": [
    {
     "data": {
      "text/plain": [
       "180"
      ]
     },
     "execution_count": 47,
     "metadata": {},
     "output_type": "execute_result"
    }
   ],
   "source": [
    "bmw.max_speed"
   ]
  },
  {
   "cell_type": "code",
   "execution_count": 48,
   "id": "dc01a078-8e58-4b6f-b7f4-227f36ceb4c4",
   "metadata": {},
   "outputs": [
    {
     "data": {
      "text/plain": [
       "20"
      ]
     },
     "execution_count": 48,
     "metadata": {},
     "output_type": "execute_result"
    }
   ],
   "source": [
    "bmw.average_of_vehicle"
   ]
  },
  {
   "cell_type": "code",
   "execution_count": 49,
   "id": "e04edfc8-137f-4f7a-8a6d-97b1772e9093",
   "metadata": {},
   "outputs": [],
   "source": [
    "# Q2. Create a child class car from the vehicle class created in Que 1, which will inherit the \n",
    "#     vehicle class. Create a method named seating_capacity which takes capacity as an argument \n",
    "#     and returns the name of the vehicle and its seating capacity.\n"
   ]
  },
  {
   "cell_type": "code",
   "execution_count": 50,
   "id": "657273cd-7791-41b4-a93e-7bfdbaac81a1",
   "metadata": {},
   "outputs": [],
   "source": [
    "# Ans-\n",
    "\n",
    "class vehicle1 :\n",
    "    \n",
    "    def __init__(self, name_of_vehicle, max_speed, average_of_vehicle):\n",
    "        \n",
    "        self.name_of_vehicle = name_of_vehicle\n",
    "        self.max_speed = max_speed\n",
    "        self.average_of_vehicle = average_of_vehicle"
   ]
  },
  {
   "cell_type": "code",
   "execution_count": 51,
   "id": "92c05a2d-135e-4a36-8253-a00aef5e7169",
   "metadata": {},
   "outputs": [],
   "source": [
    "class car(vehicle1):\n",
    "    \n",
    "    def seating_capacity(self, capacity):\n",
    "        self.capacity = capacity\n",
    "        \n",
    "    def return_vehicle(self):\n",
    "        print(f\"Vehicle name is {self.name_of_vehicle} and its seating capacity {self.capacity}\")"
   ]
  },
  {
   "cell_type": "code",
   "execution_count": 52,
   "id": "30bef60d-8b0a-4fbc-9227-975c1cfc9440",
   "metadata": {},
   "outputs": [],
   "source": [
    "bmw = car(\"car\",180,20)"
   ]
  },
  {
   "cell_type": "code",
   "execution_count": 53,
   "id": "3c767bbb-f761-4ee8-98e8-16231ee77049",
   "metadata": {},
   "outputs": [
    {
     "data": {
      "text/plain": [
       "'car'"
      ]
     },
     "execution_count": 53,
     "metadata": {},
     "output_type": "execute_result"
    }
   ],
   "source": [
    "bmw.name_of_vehicle"
   ]
  },
  {
   "cell_type": "code",
   "execution_count": 54,
   "id": "43560109-1123-45b1-933b-881e033b6cad",
   "metadata": {},
   "outputs": [
    {
     "data": {
      "text/plain": [
       "180"
      ]
     },
     "execution_count": 54,
     "metadata": {},
     "output_type": "execute_result"
    }
   ],
   "source": [
    "bmw.max_speed"
   ]
  },
  {
   "cell_type": "code",
   "execution_count": 55,
   "id": "9faa3798-cbe5-486d-af90-ab40b359bb20",
   "metadata": {},
   "outputs": [
    {
     "data": {
      "text/plain": [
       "20"
      ]
     },
     "execution_count": 55,
     "metadata": {},
     "output_type": "execute_result"
    }
   ],
   "source": [
    "bmw.average_of_vehicle"
   ]
  },
  {
   "cell_type": "code",
   "execution_count": 56,
   "id": "c165d435-8f2e-42ad-9314-5afa2fc7bbdc",
   "metadata": {},
   "outputs": [],
   "source": [
    "bmw.seating_capacity(5)"
   ]
  },
  {
   "cell_type": "code",
   "execution_count": 57,
   "id": "93180723-6f5d-47c2-b7e5-ae2d5326ae7a",
   "metadata": {},
   "outputs": [
    {
     "name": "stdout",
     "output_type": "stream",
     "text": [
      "Vehicle name is car and its seating capacity 5\n"
     ]
    }
   ],
   "source": [
    "bmw.return_vehicle()"
   ]
  },
  {
   "cell_type": "code",
   "execution_count": 39,
   "id": "e8c59d8d-5631-4fac-b3ec-9f84e66b6506",
   "metadata": {},
   "outputs": [],
   "source": [
    "# Q3. What is multiple inheritance? Write a python code to demonstrate multiple inheritance."
   ]
  },
  {
   "cell_type": "code",
   "execution_count": 59,
   "id": "9154ffa7-72d1-4793-b9ce-3cd29d294c7f",
   "metadata": {},
   "outputs": [],
   "source": [
    "# Ans- Multiple inheritance is a features of some object oriented programming language in which an \n",
    "#      object or class can inheit features from more than one parent object or parent class."
   ]
  },
  {
   "cell_type": "code",
   "execution_count": 87,
   "id": "f1a4fc80-6a56-4a05-ba5a-c1294423b650",
   "metadata": {},
   "outputs": [],
   "source": [
    "class making_driving_lien :\n",
    "    \n",
    "    def first_document(self):\n",
    "        print(\"The first document is your Age Proof Certificate like: aadhar card, pan car, etc.\")\n",
    "        "
   ]
  },
  {
   "cell_type": "code",
   "execution_count": 88,
   "id": "e1d754b7-5405-4cc4-a024-f442f9ad2dda",
   "metadata": {},
   "outputs": [],
   "source": [
    "class making_driving_lien_1(making_driving_lien):\n",
    "    \n",
    "    def second_document(self):\n",
    "        print(\"The second document is your Address Proof Certificate.\")\n",
    "    \n",
    "   "
   ]
  },
  {
   "cell_type": "code",
   "execution_count": 89,
   "id": "c6b0d45d-cdae-4910-99b6-ebe1a2cd2c17",
   "metadata": {},
   "outputs": [],
   "source": [
    "class making_driving_lien_2(making_driving_lien_1):\n",
    "    \n",
    "    def third_document(self):\n",
    "        print(\"The third document is your Passport-sized photographs. \")   "
   ]
  },
  {
   "cell_type": "code",
   "execution_count": 90,
   "id": "0b8de910-e7cd-442d-b238-5636c8253f79",
   "metadata": {},
   "outputs": [],
   "source": [
    "dl = making_driving_lien_2()"
   ]
  },
  {
   "cell_type": "code",
   "execution_count": 91,
   "id": "9c0b8bb3-3cd6-45db-9947-b52851386c34",
   "metadata": {},
   "outputs": [
    {
     "name": "stdout",
     "output_type": "stream",
     "text": [
      "The first document is your Age Proof Certificate like: aadhar card, pan car, etc.\n"
     ]
    }
   ],
   "source": [
    "dl.first_document()"
   ]
  },
  {
   "cell_type": "code",
   "execution_count": 92,
   "id": "7d83a457-5fac-43b4-bcb1-0edc1a4ee84c",
   "metadata": {},
   "outputs": [
    {
     "name": "stdout",
     "output_type": "stream",
     "text": [
      "The second document is your Address Proof Certificate.\n"
     ]
    }
   ],
   "source": [
    "dl.second_document()"
   ]
  },
  {
   "cell_type": "code",
   "execution_count": 93,
   "id": "52764d1f-4e22-4fa9-bdce-6ae7fe105c84",
   "metadata": {},
   "outputs": [
    {
     "name": "stdout",
     "output_type": "stream",
     "text": [
      "The third document is your Passport-sized photographs. \n"
     ]
    }
   ],
   "source": [
    "dl.third_document()"
   ]
  },
  {
   "cell_type": "code",
   "execution_count": 94,
   "id": "323c9287-6178-42ac-a9ca-92e0d2770b78",
   "metadata": {},
   "outputs": [],
   "source": [
    "# Q4. What are getter and setter in python? Create a class and create a getter and a setter method \n",
    "#     in this class."
   ]
  },
  {
   "cell_type": "code",
   "execution_count": 95,
   "id": "6d39609e-ca37-4213-a136-b3dc3261576f",
   "metadata": {},
   "outputs": [],
   "source": [
    "# Ans- In object oriented programming language when the intance is private or protect respectively \n",
    "#      by using '_' or  '__'. User faces problem to access intance then user use getter. When user \n",
    "#      wants to set or modify data then he use setter."
   ]
  },
  {
   "cell_type": "code",
   "execution_count": 96,
   "id": "1b05010d-9f5b-46d1-92e9-a7501ee519e4",
   "metadata": {},
   "outputs": [],
   "source": [
    "class vehicle_details :\n",
    "    \n",
    "    def __init__(self, vehicle_name , max_speed, average_of_vehicle):\n",
    "        self.__vehicle_name = vehicle_name\n",
    "        self.__max_speed = max_speed\n",
    "        self.__average_of_vehicle = 30\n",
    "        \n",
    "    def set_average_of_vehicle(self, average_of_vehicle):\n",
    "        self.__average_of_vehicle = 30 if average_of_vehicle <= 30 else average_of_vehicle\n",
    "        \n",
    "    def get_average_of_vehicle(self):\n",
    "        return self.__average_of_vehicle\n",
    "    \n",
    "    def return_vehicle_details(self):\n",
    "        return self.__vehicle_name, self.__max_speed, self.__average_of_vehicle\n",
    "        "
   ]
  },
  {
   "cell_type": "code",
   "execution_count": 98,
   "id": "718e1407-0c1e-423b-af2f-eedeb5ca74c1",
   "metadata": {},
   "outputs": [],
   "source": [
    "tata = vehicle_details(\"truck\", 200, 10)"
   ]
  },
  {
   "cell_type": "code",
   "execution_count": 104,
   "id": "ac7d019a-19da-4f3c-aa34-61c54cad2f0b",
   "metadata": {},
   "outputs": [
    {
     "data": {
      "text/plain": [
       "30"
      ]
     },
     "execution_count": 104,
     "metadata": {},
     "output_type": "execute_result"
    }
   ],
   "source": [
    "tata.get_average_of_vehicle()"
   ]
  },
  {
   "cell_type": "code",
   "execution_count": 105,
   "id": "bcfa52a9-1ee3-40fb-986a-d668e9920c18",
   "metadata": {},
   "outputs": [],
   "source": [
    "tata.set_average_of_vehicle(10)"
   ]
  },
  {
   "cell_type": "code",
   "execution_count": 106,
   "id": "e1e6eb38-327b-40b9-869d-d6152f12e1d6",
   "metadata": {},
   "outputs": [
    {
     "data": {
      "text/plain": [
       "30"
      ]
     },
     "execution_count": 106,
     "metadata": {},
     "output_type": "execute_result"
    }
   ],
   "source": [
    "tata.get_average_of_vehicle()"
   ]
  },
  {
   "cell_type": "code",
   "execution_count": 107,
   "id": "985dd805-c469-451c-acc0-4dd23aef0ff9",
   "metadata": {},
   "outputs": [
    {
     "data": {
      "text/plain": [
       "('truck', 200, 30)"
      ]
     },
     "execution_count": 107,
     "metadata": {},
     "output_type": "execute_result"
    }
   ],
   "source": [
    "tata.return_vehicle_details()"
   ]
  },
  {
   "cell_type": "code",
   "execution_count": 4,
   "id": "7842074a-8431-4e3f-bedd-17bd7c4cef58",
   "metadata": {},
   "outputs": [],
   "source": [
    "# Q5.What is method overriding in python? Write a python code to demonstrate method overriding."
   ]
  },
  {
   "cell_type": "code",
   "execution_count": 108,
   "id": "795b2c7a-fca0-4e91-82aa-55376497c50c",
   "metadata": {},
   "outputs": [],
   "source": [
    "# Ans- Method overriding is an ability of object oriented programming language that allows a\n",
    "#      sub-class or child class to provide specific implementation of a method that is already \n",
    "#      provided by one of its super-classes or parent classes."
   ]
  },
  {
   "cell_type": "code",
   "execution_count": 116,
   "id": "cf581e76-83c0-4ae4-98b5-e6c7e0c2529d",
   "metadata": {},
   "outputs": [],
   "source": [
    "import abc\n",
    "class need_document :\n",
    "    \n",
    "    @abc.abstractmethod\n",
    "    def document_first():\n",
    "        pass\n",
    "    \n",
    "    @abc.abstractmethod\n",
    "    def document_second():\n",
    "        pass\n",
    "    \n",
    "    @abc.abstractmethod\n",
    "    def document_third():\n",
    "        pass\n",
    "    "
   ]
  },
  {
   "cell_type": "code",
   "execution_count": 117,
   "id": "a4cc28fb-570c-4c54-af13-5b2eadfb17bb",
   "metadata": {},
   "outputs": [],
   "source": [
    "class dl_making(need_document):\n",
    "    \n",
    "    def document_first(self):\n",
    "        print(\"The first document is your Age Proof Certificate like: aadhar card, pan car, etc.\")\n",
    "        \n",
    "    def document_second(self):\n",
    "        print(\"The second document is your Address Proof Certificate.\")\n",
    "        \n",
    "    def document_third(self):\n",
    "        print(\"The third document is your Passport-sized photographs.\")"
   ]
  },
  {
   "cell_type": "code",
   "execution_count": 131,
   "id": "e455b4d6-7bb2-4132-b310-140a5ff54565",
   "metadata": {},
   "outputs": [],
   "source": [
    "class making_pan_card(need_document):\n",
    "    \n",
    "    def document_first(self):\n",
    "        print(\"The first document is your proof of identity.\")\n",
    "        \n",
    "    def document_second(self):\n",
    "        print(\"The second document is your proof of birth. \")\n",
    "        \n",
    "    def document_third(self):\n",
    "        print(\"The third document is your proof of address. \")"
   ]
  },
  {
   "cell_type": "code",
   "execution_count": 132,
   "id": "812c7113-a22c-44af-9e71-f9055888abf8",
   "metadata": {},
   "outputs": [],
   "source": [
    "dl = dl_making()"
   ]
  },
  {
   "cell_type": "code",
   "execution_count": 133,
   "id": "19737d86-5b1a-4dd3-8a08-cca2fe50dbf6",
   "metadata": {},
   "outputs": [
    {
     "name": "stdout",
     "output_type": "stream",
     "text": [
      "The first document is your Age Proof Certificate like: aadhar card, pan car, etc.\n"
     ]
    }
   ],
   "source": [
    "dl.document_first()"
   ]
  },
  {
   "cell_type": "code",
   "execution_count": 134,
   "id": "be907b5f-e7dd-4573-afe1-f05ca497d928",
   "metadata": {},
   "outputs": [
    {
     "name": "stdout",
     "output_type": "stream",
     "text": [
      "The second document is your Address Proof Certificate.\n"
     ]
    }
   ],
   "source": [
    "dl.document_second()"
   ]
  },
  {
   "cell_type": "code",
   "execution_count": 135,
   "id": "584f6ca5-d776-4a28-9565-d19974a97639",
   "metadata": {},
   "outputs": [
    {
     "name": "stdout",
     "output_type": "stream",
     "text": [
      "The third document is your Passport-sized photographs.\n"
     ]
    }
   ],
   "source": [
    "dl.document_third()"
   ]
  },
  {
   "cell_type": "code",
   "execution_count": 136,
   "id": "09fe8bac-bf9e-4526-86a4-35858de38cf4",
   "metadata": {},
   "outputs": [],
   "source": [
    "pan = making_pan_card()"
   ]
  },
  {
   "cell_type": "code",
   "execution_count": 137,
   "id": "e671e15c-84fa-4045-89a4-4ed7d715eb64",
   "metadata": {},
   "outputs": [
    {
     "name": "stdout",
     "output_type": "stream",
     "text": [
      "The first document is your proof of identity.\n"
     ]
    }
   ],
   "source": [
    "pan.document_first()"
   ]
  },
  {
   "cell_type": "code",
   "execution_count": 138,
   "id": "c512a7cb-aa42-4931-9e54-c103eb550cc6",
   "metadata": {},
   "outputs": [
    {
     "name": "stdout",
     "output_type": "stream",
     "text": [
      "The second document is your proof of birth. \n"
     ]
    }
   ],
   "source": [
    "pan.document_second()"
   ]
  },
  {
   "cell_type": "code",
   "execution_count": 139,
   "id": "3ed7879e-7b21-4cc2-b5d1-47811f761bf2",
   "metadata": {},
   "outputs": [
    {
     "name": "stdout",
     "output_type": "stream",
     "text": [
      "The third document is your proof of address. \n"
     ]
    }
   ],
   "source": [
    "pan.document_third()"
   ]
  },
  {
   "cell_type": "code",
   "execution_count": null,
   "id": "c85c5228-b3e4-4a6c-9374-29b134f2680c",
   "metadata": {},
   "outputs": [],
   "source": []
  }
 ],
 "metadata": {
  "kernelspec": {
   "display_name": "Python 3 (ipykernel)",
   "language": "python",
   "name": "python3"
  },
  "language_info": {
   "codemirror_mode": {
    "name": "ipython",
    "version": 3
   },
   "file_extension": ".py",
   "mimetype": "text/x-python",
   "name": "python",
   "nbconvert_exporter": "python",
   "pygments_lexer": "ipython3",
   "version": "3.10.8"
  }
 },
 "nbformat": 4,
 "nbformat_minor": 5
}
